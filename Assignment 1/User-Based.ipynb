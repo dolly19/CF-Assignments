{
  "cells": [
    {
      "cell_type": "code",
      "execution_count": 1,
      "metadata": {
        "id": "fR6ry79wprCx"
      },
      "outputs": [],
      "source": [
        "# from google.colab import drive\n",
        "# drive.mount('/content/gdrive')\n",
        "# %cd '/content/gdrive/MyDrive/CFDataset/ml-100k'\n",
        "# %ls\n",
        "# import warnings\n",
        "# warnings.filterwarnings('ignore')\n",
        "# !pip install pandas\n",
        "# !pip install -U scikit-learn"
      ]
    },
    {
      "cell_type": "markdown",
      "metadata": {
        "id": "IFP9k2kiOEKL"
      },
      "source": [
        "**Importing Libraries**"
      ]
    },
    {
      "cell_type": "code",
      "execution_count": 2,
      "metadata": {
        "id": "8Fx1aZPGmi8P"
      },
      "outputs": [],
      "source": [
        "import pandas as pd\n",
        "import numpy as np\n",
        "from sklearn.metrics import mean_absolute_error\n",
        "from sklearn.metrics.pairwise import cosine_similarity"
      ]
    },
    {
      "cell_type": "markdown",
      "metadata": {
        "id": "8fP393FuOONB"
      },
      "source": [
        "**Loading dataset**"
      ]
    },
    {
      "cell_type": "code",
      "execution_count": 3,
      "metadata": {
        "id": "UDskdqsxnWmJ"
      },
      "outputs": [],
      "source": [
        "def readData(name):\n",
        "  fold = pd.read_csv(name, sep=\"\\t\", header=None)\n",
        "  fold.columns = ['userId', 'movieId', 'rating', 'timestamp']\n",
        "  return fold"
      ]
    },
    {
      "cell_type": "markdown",
      "metadata": {
        "id": "IQJd1boFOaGZ"
      },
      "source": [
        "**Creating User-Item Matrix**"
      ]
    },
    {
      "cell_type": "code",
      "execution_count": 4,
      "metadata": {
        "id": "9nEcDN15rZdu"
      },
      "outputs": [],
      "source": [
        "def userItemMatrix(data):\n",
        "  n = 943\n",
        "  m = 1682\n",
        "  matrix = [[0]*m for i in range(n)]\n",
        "\n",
        "  for i in range(len(data)):\n",
        "    userid = data['userId'][i]\n",
        "    movieid = data['movieId'][i]\n",
        "    rating = data['rating'][i]\n",
        "    matrix[userid-1][movieid-1] = rating\n",
        "\n",
        "  return matrix"
      ]
    },
    {
      "cell_type": "markdown",
      "metadata": {
        "id": "pCQiBSl3Owj3"
      },
      "source": [
        "**Creating Similarity Matrix**"
      ]
    },
    {
      "cell_type": "code",
      "execution_count": 5,
      "metadata": {
        "id": "xSjuq31VeF4H"
      },
      "outputs": [],
      "source": [
        "def similarityMatrix(matrix):\n",
        "  similarityMatrix= cosine_similarity(matrix) \n",
        "  return similarityMatrix"
      ]
    },
    {
      "cell_type": "markdown",
      "metadata": {
        "id": "ekoL4iTkO23U"
      },
      "source": [
        "**Function for calculating Average of users**"
      ]
    },
    {
      "cell_type": "code",
      "execution_count": 6,
      "metadata": {
        "id": "NuHJm-XUamye"
      },
      "outputs": [],
      "source": [
        "def calculateAvg(row):\n",
        "  sum =0\n",
        "  n =0\n",
        "  for i in range(len(row)):\n",
        "    if(row[i]==0): \n",
        "      continue\n",
        "    sum += row[i]\n",
        "    n += 1\n",
        "  if n==0: \n",
        "    return 0\n",
        "  else: \n",
        "    avg = sum/n\n",
        "    return avg"
      ]
    },
    {
      "cell_type": "markdown",
      "metadata": {
        "id": "VPy1Zr92O-Z1"
      },
      "source": [
        "**Function for calculating MAE Score**"
      ]
    },
    {
      "cell_type": "code",
      "execution_count": 7,
      "metadata": {
        "id": "Y3cODbrvAcPL"
      },
      "outputs": [],
      "source": [
        "def MAEScore(actualR,predR):\n",
        "  return mean_absolute_error(actualR, predR)"
      ]
    },
    {
      "cell_type": "markdown",
      "metadata": {
        "id": "Prsj8yXDPOMS"
      },
      "source": [
        "**Function for predicting the missing rating**\n",
        "\n"
      ]
    },
    {
      "cell_type": "code",
      "execution_count": 8,
      "metadata": {
        "id": "6B2-3jc_2Qpc"
      },
      "outputs": [],
      "source": [
        "def prediction(matrix, simMatrix, userID, movieID,K):\n",
        "  smUser = simMatrix[userID]\n",
        "  sim = list()\n",
        "  for i in range(len(smUser)):\n",
        "    if(i == userID):\n",
        "      continue\n",
        "    sim.append((smUser[i],i))\n",
        "  sim.sort(key = lambda x:x[0],reverse=True)\n",
        "\n",
        "  Num =0\n",
        "  Den =0\n",
        "  missingR =0\n",
        "  count =0\n",
        "\n",
        "  for i in range(len(sim)):\n",
        "    userSim, curID = sim[i]\n",
        "    userRating = matrix[curID][movieID]\n",
        "\n",
        "    if(userRating == 0):\n",
        "      continue\n",
        "    \n",
        "    Num += ((userRating - calculateAvg(matrix[curID]))*userSim)\n",
        "    Den += userSim\n",
        "    \n",
        "    count +=1\n",
        "    if(count == K):\n",
        "      break\n",
        "\n",
        "  if(Den ==0):\n",
        "    missingR = calculateAvg(matrix[userID])\n",
        "  else:\n",
        "    missingR = calculateAvg(matrix[userID]) + (Num/Den)\n",
        " \n",
        "  return missingR"
      ]
    },
    {
      "cell_type": "markdown",
      "metadata": {
        "id": "TZTaLs_FPi4v"
      },
      "source": [
        "**Calculating MAE Score for each fold and for each K neighbour Value**\n",
        "\n"
      ]
    },
    {
      "cell_type": "code",
      "execution_count": 9,
      "metadata": {
        "colab": {
          "base_uri": "https://localhost:8080/"
        },
        "id": "jh9KwGNczp9a",
        "outputId": "707ccb63-fca4-499c-94a6-e714ede459d2"
      },
      "outputs": [
        {
          "name": "stdout",
          "output_type": "stream",
          "text": [
            "K 10 completed for fold 1\n",
            "K 20 completed for fold 1\n",
            "K 30 completed for fold 1\n",
            "K 40 completed for fold 1\n",
            "K 50 completed for fold 1\n",
            "fold 1 completed\n",
            "K 10 completed for fold 2\n",
            "K 20 completed for fold 2\n",
            "K 30 completed for fold 2\n",
            "K 40 completed for fold 2\n",
            "K 50 completed for fold 2\n",
            "fold 2 completed\n",
            "K 10 completed for fold 3\n",
            "K 20 completed for fold 3\n",
            "K 30 completed for fold 3\n",
            "K 40 completed for fold 3\n",
            "K 50 completed for fold 3\n",
            "fold 3 completed\n",
            "K 10 completed for fold 4\n",
            "K 20 completed for fold 4\n",
            "K 30 completed for fold 4\n",
            "K 40 completed for fold 4\n",
            "K 50 completed for fold 4\n",
            "fold 4 completed\n",
            "K 10 completed for fold 5\n",
            "K 20 completed for fold 5\n",
            "K 30 completed for fold 5\n",
            "K 40 completed for fold 5\n"
          ]
        }
      ],
      "source": [
        "KNeighbour = [10,20,30,40,50]\n",
        "finalAccuracy =[[0]*5 for i in range(5)]\n",
        "\n",
        "for fold in range(1,6):\n",
        "  trainData = readData('u' + str(fold) + '.base')\n",
        "  testData = readData('u' + str(fold) + '.test')\n",
        "\n",
        "  matrix = userItemMatrix(trainData)\n",
        "  simMatrix = similarityMatrix(matrix)\n",
        "\n",
        "  c = 0\n",
        "  for k in KNeighbour:\n",
        "    predList =list()\n",
        "    actualList =list()\n",
        "    for i in range(testData.shape[0]):\n",
        "      userID = testData['userId'][i]-1\n",
        "      movieID = testData['movieId'][i]-1\n",
        "\n",
        "      predictR = prediction(matrix, simMatrix, userID, movieID,k)\n",
        "      predList.append(predictR)\n",
        "      actualList.append(testData['rating'][i])\n",
        "   \n",
        "    finalAccuracy[fold-1][c] = MAEScore(actualList,predList)\n",
        "    c +=1\n",
        "    print(f\"K {k} completed for fold {fold}\") \n",
        "  print(f\"fold {fold} completed\")   "
      ]
    },
    {
      "cell_type": "code",
      "execution_count": null,
      "metadata": {
        "id": "qXgi4Q1JBHOD"
      },
      "outputs": [
        {
          "name": "stdout",
          "output_type": "stream",
          "text": [
            "[[0.76208424 0.7526601  0.75273121 0.7529733  0.75363184]\n",
            " [0.74922404 0.7396596  0.73895325 0.74002126 0.74092716]\n",
            " [0.74941709 0.73897463 0.73746467 0.73752042 0.73810018]\n",
            " [0.74366147 0.73522938 0.73488766 0.73503262 0.73593911]\n",
            " [0.75217146 0.74091496 0.73943641 0.74037654 0.74098665]]\n"
          ]
        }
      ],
      "source": [
        "print(np.matrix(finalAccuracy))"
      ]
    }
  ],
  "metadata": {
    "colab": {
      "provenance": []
    },
    "kernelspec": {
      "display_name": "Python 3",
      "language": "python",
      "name": "python3"
    },
    "language_info": {
      "codemirror_mode": {
        "name": "ipython",
        "version": 3
      },
      "file_extension": ".py",
      "mimetype": "text/x-python",
      "name": "python",
      "nbconvert_exporter": "python",
      "pygments_lexer": "ipython3",
      "version": "3.10.6"
    },
    "vscode": {
      "interpreter": {
        "hash": "916dbcbb3f70747c44a77c7bcd40155683ae19c65e1c03b4aa3499c5328201f1"
      }
    }
  },
  "nbformat": 4,
  "nbformat_minor": 0
}
