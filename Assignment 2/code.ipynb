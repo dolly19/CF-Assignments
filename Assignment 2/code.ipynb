{
  "nbformat": 4,
  "nbformat_minor": 0,
  "metadata": {
    "colab": {
      "provenance": []
    },
    "kernelspec": {
      "name": "python3",
      "display_name": "Python 3"
    },
    "language_info": {
      "name": "python"
    }
  },
  "cells": [
    {
      "cell_type": "code",
      "execution_count": 1,
      "metadata": {
        "id": "D8EOBJGtZKau",
        "colab": {
          "base_uri": "https://localhost:8080/"
        },
        "outputId": "0b072dc6-29a4-4f75-9128-76f08a5da20d"
      },
      "outputs": [
        {
          "output_type": "stream",
          "name": "stdout",
          "text": [
            "Mounted at /content/gdrive\n",
            "/content/gdrive/MyDrive/CFDataset/ml-100k\n",
            "allbut.pl  u1.base  u2.test  u4.base  u5.test  ub.base  u.genre  u.occupation\n",
            "mku.sh     u1.test  u3.base  u4.test  ua.base  ub.test  u.info   u.user\n",
            "README     u2.base  u3.test  u5.base  ua.test  u.data   u.item\n"
          ]
        }
      ],
      "source": [
        "from google.colab import drive\n",
        "drive.mount('/content/gdrive')\n",
        "%cd '/content/gdrive/MyDrive/CFDataset/ml-100k'\n",
        "%ls\n",
        "import warnings\n",
        "warnings.filterwarnings('ignore')"
      ]
    },
    {
      "cell_type": "code",
      "source": [
        "import pandas as pd\n",
        "import numpy as np\n",
        "from sklearn.metrics import mean_absolute_error\n",
        "from scipy.sparse.linalg import lsqr\n",
        "from scipy.sparse.linalg import cg"
      ],
      "metadata": {
        "id": "729GmplUZQSf"
      },
      "execution_count": 2,
      "outputs": []
    },
    {
      "cell_type": "code",
      "source": [
        "def readData(name):\n",
        "  fold = pd.read_csv(name, sep=\"\\t\", header=None)\n",
        "  fold.columns = ['userId', 'movieId', 'rating', 'timestamp']\n",
        "  fold['userId'] = fold['userId'].astype(int)\n",
        "  fold['movieId'] = fold['movieId'].astype(int)\n",
        "  fold['rating'] = fold['rating'].astype(int)\n",
        "  fold['timestamp'] = fold['timestamp'].astype(int)\n",
        "  return fold"
      ],
      "metadata": {
        "id": "utl31ruUZS7H"
      },
      "execution_count": 3,
      "outputs": []
    },
    {
      "cell_type": "code",
      "source": [
        "def userItemMatrix(data):\n",
        "  n = 943\n",
        "  m = 1682\n",
        "  matrix = [[0]*m for i in range(n)]\n",
        "\n",
        "  for i in range(len(data)):\n",
        "    userid = data['userId'][i]\n",
        "    movieid = data['movieId'][i]\n",
        "    rating = data['rating'][i]\n",
        "    matrix[userid-1][movieid-1] = rating\n",
        "  return np.array(matrix)"
      ],
      "metadata": {
        "id": "lkZnJOHkZWJD"
      },
      "execution_count": 4,
      "outputs": []
    },
    {
      "cell_type": "code",
      "source": [
        "def MAEScore(actualR,predR):\n",
        "  return mean_absolute_error(actualR, predR)"
      ],
      "metadata": {
        "id": "n3ooBBF-Zdip"
      },
      "execution_count": 5,
      "outputs": []
    },
    {
      "cell_type": "code",
      "source": [
        "class LFM:\n",
        "  def __init__(self, n_factor,  n_iteration, ratings):\n",
        "    self.n_factors = n_factor\n",
        "    self.n_iterations = n_iteration\n",
        "    self.ratings = ratings\n",
        "    self.n_users = ratings.shape[0]\n",
        "    self.n_items  = ratings.shape[1]\n",
        "\n",
        "  def mask(self, X):\n",
        "    for i in range(self.n_users):\n",
        "      for j in range(self.n_items):\n",
        "        if(self.ratings[i][j] == 0):\n",
        "            X[i][j] =0\n",
        "    return X\n",
        "\n",
        "  def ALS(self):\n",
        "    user_factor = np.random.random((self.n_users,self.n_factors))\n",
        "    item_factor = np.random.random((self.n_factors,self.n_items))\n",
        "    user_factor, item_factor = self.start_iterations(user_factor,item_factor)\n",
        "    pred_ratings = user_factor.dot(item_factor)\n",
        "    return pred_ratings\n",
        "\n",
        "  def start_iterations(self, user_factor, item_factor):\n",
        "    for iter in range(self.n_iterations):\n",
        "      X = user_factor.dot(item_factor)\n",
        "      B = X + self.ratings - self.mask(user_factor.dot(item_factor))\n",
        "      for inner in range(10):\n",
        "        item_factor = np.linalg.solve(user_factor.T@user_factor,user_factor.T@B)\n",
        "\n",
        "        user_factor = user_factor.T\n",
        "        item_factor = item_factor.T\n",
        "        B = B.T\n",
        "        user_factor = np.linalg.solve(item_factor.T@item_factor,item_factor.T@B)\n",
        "        user_factor = user_factor.T\n",
        "        item_factor = item_factor.T\n",
        "        B = B.T\n",
        "    return user_factor,item_factor"
      ],
      "metadata": {
        "id": "30_iUII2U-Vb"
      },
      "execution_count": 10,
      "outputs": []
    },
    {
      "cell_type": "code",
      "source": [
        "def prediction(ratings_pred, testData):\n",
        "  predList = list()\n",
        "  actualList =list()\n",
        "  for i in range(testData.shape[0]):\n",
        "    userID = testData['userId'][i]-1\n",
        "    movieID = testData['movieId'][i]-1\n",
        "    predList.append(ratings_pred[userID][movieID])\n",
        "    actualList.append(testData['rating'][i])\n",
        "\n",
        "  finalAccuracy = MAEScore(actualList,predList)\n",
        "  return finalAccuracy"
      ],
      "metadata": {
        "id": "LwAWlOcGOmhb"
      },
      "execution_count": 11,
      "outputs": []
    },
    {
      "cell_type": "code",
      "source": [
        "def normalize(ratings_pred):\n",
        "  for i in range(len(ratings_pred)):\n",
        "    for j in range(len(ratings_pred[0])):\n",
        "      ratings_pred[i][j] = abs( ratings_pred[i][j])\n",
        "      ratings_pred[i][j] = round(ratings_pred[i][j])\n",
        "      if(ratings_pred[i][j]<1):\n",
        "        ratings_pred[i][j] =1\n",
        "      if(ratings_pred[i][j]>5):\n",
        "        ratings_pred[i][j] =5\n",
        "  return ratings_pred"
      ],
      "metadata": {
        "id": "moV6gt15P4Jk"
      },
      "execution_count": 12,
      "outputs": []
    },
    {
      "cell_type": "code",
      "source": [
        "for fold in range(1,6):\n",
        "  trainData = readData('u' + str(fold) + '.base')\n",
        "  testData = readData('u' + str(fold) + '.test')\n",
        "\n",
        "  matrix = userItemMatrix(trainData)\n",
        "  LFM_class = LFM(10,30,matrix)\n",
        "  ratings_pred = LFM_class.ALS()\n",
        "  ratings_pred = normalize(ratings_pred)\n",
        "  NMAE =  prediction(ratings_pred,testData)/4\n",
        "  print(f\"Fold {fold} NMAE score: {NMAE}\")"
      ],
      "metadata": {
        "colab": {
          "base_uri": "https://localhost:8080/"
        },
        "id": "lUi9KM0gU3NW",
        "outputId": "89eb3559-9428-441f-ffa0-9164abe035a7"
      },
      "execution_count": 21,
      "outputs": [
        {
          "output_type": "stream",
          "name": "stdout",
          "text": [
            "Fold 1 NMAE score: 0.185\n",
            "Fold 2 NMAE score: 0.18375\n",
            "Fold 3 NMAE score: 0.1817875\n",
            "Fold 4 NMAE score: 0.18235\n",
            "Fold 5 NMAE score: 0.1857125\n"
          ]
        }
      ]
    },
    {
      "cell_type": "code",
      "source": [
        "for fold in range(1,6):\n",
        "  trainData = readData('u' + str(fold) + '.base')\n",
        "  testData = readData('u' + str(fold) + '.test')\n",
        "\n",
        "  matrix = userItemMatrix(trainData)\n",
        "  LFM_class = LFM(7,30,matrix)\n",
        "  ratings_pred = LFM_class.ALS()\n",
        "  ratings_pred = normalize(ratings_pred)\n",
        "  NMAE =  prediction(ratings_pred,testData)/4\n",
        "  print(f\"Fold {fold} NMAE score: {NMAE}\")"
      ],
      "metadata": {
        "colab": {
          "base_uri": "https://localhost:8080/"
        },
        "id": "zNK-hnmhpPNA",
        "outputId": "5423e112-f2ce-468e-8007-31112a11feed"
      },
      "execution_count": 29,
      "outputs": [
        {
          "output_type": "stream",
          "name": "stdout",
          "text": [
            "Fold 1 NMAE score: 0.18745\n",
            "Fold 2 NMAE score: 0.182375\n",
            "Fold 3 NMAE score: 0.1822875\n",
            "Fold 4 NMAE score: 0.1830875\n",
            "Fold 5 NMAE score: 0.1857875\n"
          ]
        }
      ]
    },
    {
      "cell_type": "code",
      "source": [
        "for fold in range(1,6):\n",
        "  trainData = readData('u' + str(fold) + '.base')\n",
        "  testData = readData('u' + str(fold) + '.test')\n",
        "\n",
        "  matrix = userItemMatrix(trainData)\n",
        "  LFM_class = LFM(10,45,matrix)\n",
        "  ratings_pred = LFM_class.ALS()\n",
        "  ratings_pred = normalize(ratings_pred)\n",
        "  NMAE =  prediction(ratings_pred,testData)/4\n",
        "  print(f\"Fold {fold} NMAE score: {NMAE}\")"
      ],
      "metadata": {
        "id": "tzx9iEkq-Mp_",
        "colab": {
          "base_uri": "https://localhost:8080/"
        },
        "outputId": "8c18c8a1-9ae0-478f-bf4f-f795a4807826"
      },
      "execution_count": 30,
      "outputs": [
        {
          "output_type": "stream",
          "name": "stdout",
          "text": [
            "Fold 1 NMAE score: 0.1841\n",
            "Fold 2 NMAE score: 0.1812875\n",
            "Fold 3 NMAE score: 0.179875\n",
            "Fold 4 NMAE score: 0.1829125\n",
            "Fold 5 NMAE score: 0.1825375\n"
          ]
        }
      ]
    },
    {
      "cell_type": "code",
      "source": [],
      "metadata": {
        "id": "FvsDV7sPpq47"
      },
      "execution_count": null,
      "outputs": []
    }
  ]
}